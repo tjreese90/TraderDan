{
 "cells": [
  {
   "cell_type": "code",
   "execution_count": 1,
   "id": "408f3e9b",
   "metadata": {},
   "outputs": [],
   "source": [
    "import requests\n",
    "import pandas as pd\n",
    "import json\n",
    "from dateutil import parser"
   ]
  },
  {
   "cell_type": "code",
   "execution_count": 2,
   "id": "3fd3e2dc",
   "metadata": {},
   "outputs": [],
   "source": [
    "API_KEY = \"91e97c7b261216d6e6727272d86892a0-da24a042336ef33336d716c451ea6d36\"\n",
    "ACCOUNT_ID = \"101-001-24345029-002\"\n",
    "URL = \"https://api-fxpractice.oanda.com/v3/\""
   ]
  },
  {
   "cell_type": "code",
   "execution_count": 3,
   "id": "226a8ce9",
   "metadata": {},
   "outputs": [],
   "source": [
    "session = requests.Session()"
   ]
  },
  {
   "cell_type": "code",
   "execution_count": 4,
   "id": "fef62bc0",
   "metadata": {},
   "outputs": [],
   "source": [
    "session.headers.update({\n",
    "    \"Authorization\" : f\"Bearer {API_KEY}\",\n",
    "    \"Content-Type\" : \"application/json\"\n",
    "})"
   ]
  },
  {
   "cell_type": "code",
   "execution_count": 5,
   "id": "467d5027",
   "metadata": {},
   "outputs": [],
   "source": [
    "params = dict(\n",
    "count = 10,\n",
    "granularity = \"H1\",\n",
    "price = \"MBA\"\n",
    ")"
   ]
  },
  {
   "cell_type": "code",
   "execution_count": 6,
   "id": "275062e0",
   "metadata": {},
   "outputs": [],
   "source": [
    "url = f\"{URL}/accounts/{ACCOUNT_ID}/instruments\""
   ]
  },
  {
   "cell_type": "code",
   "execution_count": 7,
   "id": "b654cd08",
   "metadata": {},
   "outputs": [],
   "source": [
    "response = session.get(url, params=None, data=None, headers=None)"
   ]
  },
  {
   "cell_type": "raw",
   "id": "cc1ddb21",
   "metadata": {},
   "source": [
    "response.status_code"
   ]
  },
  {
   "cell_type": "code",
   "execution_count": 8,
   "id": "eac9150a",
   "metadata": {},
   "outputs": [],
   "source": [
    "data = response.json()"
   ]
  },
  {
   "cell_type": "code",
   "execution_count": 9,
   "id": "9a29b414",
   "metadata": {},
   "outputs": [],
   "source": [
    "instruments_list = data['instruments']"
   ]
  },
  {
   "cell_type": "code",
   "execution_count": 10,
   "id": "c5ed26e0",
   "metadata": {},
   "outputs": [
    {
     "data": {
      "text/plain": [
       "dict_keys(['name', 'type', 'displayName', 'pipLocation', 'displayPrecision', 'tradeUnitsPrecision', 'minimumTradeSize', 'maximumTrailingStopDistance', 'minimumTrailingStopDistance', 'maximumPositionSize', 'maximumOrderUnits', 'marginRate', 'guaranteedStopLossOrderMode', 'tags', 'financing'])"
      ]
     },
     "execution_count": 10,
     "metadata": {},
     "output_type": "execute_result"
    }
   ],
   "source": [
    "instruments_list[0].keys()"
   ]
  },
  {
   "cell_type": "code",
   "execution_count": 11,
   "id": "ad1e3147",
   "metadata": {},
   "outputs": [],
   "source": [
    "key_i = ['name', 'type', 'displayName', 'pipLocation', 'displayPrecision', 'tradeUnitsPrecision','marginRate']"
   ]
  },
  {
   "cell_type": "code",
   "execution_count": 12,
   "id": "767d59dd",
   "metadata": {},
   "outputs": [],
   "source": [
    "instruments_dict = {}\n",
    "for i in instruments_list:\n",
    "    key = (i['name'])\n",
    "    instruments_dict[key] = {k: i[k] for k in key_i}"
   ]
  },
  {
   "cell_type": "code",
   "execution_count": 13,
   "id": "d95e6ce1",
   "metadata": {},
   "outputs": [
    {
     "data": {
      "text/plain": [
       "{'name': 'USD_JPY',\n",
       " 'type': 'CURRENCY',\n",
       " 'displayName': 'USD/JPY',\n",
       " 'pipLocation': -2,\n",
       " 'displayPrecision': 3,\n",
       " 'tradeUnitsPrecision': 0,\n",
       " 'marginRate': '0.02'}"
      ]
     },
     "execution_count": 13,
     "metadata": {},
     "output_type": "execute_result"
    }
   ],
   "source": [
    "instruments_dict['USD_JPY']"
   ]
  },
  {
   "cell_type": "code",
   "execution_count": 14,
   "id": "6fbdd977",
   "metadata": {},
   "outputs": [],
   "source": [
    "with open(\"../data/instruments.json\", \"w\") as f:\n",
    "    f.write(json.dumps(instruments_dict, indent=2))"
   ]
  },
  {
   "cell_type": "code",
   "execution_count": 45,
   "id": "5caaf468",
   "metadata": {},
   "outputs": [],
   "source": [
    "def fetch_candles(pair_name, count=10, granularity=\"H1\"): \n",
    "    url = f\"{URL}/instruments/{pair_name}/candles\"\n",
    "    params = dict(\n",
    "    count = count,\n",
    "    granularity = granularity,\n",
    "    price = \"MBA\"\n",
    "    )\n",
    "    response = session.get(url, params=params, data=None, headers=None)\n",
    "    data = response.json()\n",
    "    \n",
    "    if response.status_code == 200:\n",
    "        if 'candles' not in data:\n",
    "            data = []\n",
    "        else:\n",
    "            data = data['candles']\n",
    "        return response.status_code, data\n",
    "\n",
    "def get_candles_df(data):\n",
    "    prices = ['mid', 'bid', 'ask']\n",
    "    ohlc = ['o', 'h', 'l', 'c']\n",
    "    if len(data) == 0:\n",
    "        return pd.DataFrame()\n",
    "    \n",
    "    final_data = []\n",
    "    for candle in data:\n",
    "        if candle['complete'] == False:\n",
    "            continue\n",
    "        new_dict = {}\n",
    "        new_dict['time'] = parser.parse(candle['time'])\n",
    "        new_dict['volume'] = candle['volume']\n",
    "        for p in prices:\n",
    "            for o in ohlc:\n",
    "                new_dict[f\"{p}_{o}\"] = float(candle[p][o])\n",
    "        final_data.append(new_dict)\n",
    "    df = pd.DataFrame.from_dict(final_data)\n",
    "    return df\n",
    "\n",
    "def create_data_file(pair_name, count=10, granularity=\"H1\"):\n",
    "    code, data = fetch_candles(pair_name, count, granularity)\n",
    "    if code != 200:\n",
    "        print(\"Failed\", pair_name, data)\n",
    "        return\n",
    "    if len(data) == 0:\n",
    "        print(\"No candles\", pair_name)\n",
    "    candles_df = get_candles_df(data)\n",
    "    candles_df.to_pickle(f\"../data/{pair_name}_{granularity}.pkl\")\n",
    "    print(f\"{pair_name} {granularity} {candles_df.shape[0]} candles, {candles_df.time.min()} {candles_df.time.max()}\")"
   ]
  },
  {
   "cell_type": "code",
   "execution_count": 46,
   "id": "1e63ad00",
   "metadata": {},
   "outputs": [],
   "source": [
    "code, data = fetch_candles(\"USD_JPY\", count=10, granularity=\"H4\")\n",
    "candles_df = get_candles_df(data)"
   ]
  },
  {
   "cell_type": "code",
   "execution_count": 47,
   "id": "c464fe21",
   "metadata": {},
   "outputs": [
    {
     "data": {
      "text/html": [
       "<div>\n",
       "<style scoped>\n",
       "    .dataframe tbody tr th:only-of-type {\n",
       "        vertical-align: middle;\n",
       "    }\n",
       "\n",
       "    .dataframe tbody tr th {\n",
       "        vertical-align: top;\n",
       "    }\n",
       "\n",
       "    .dataframe thead th {\n",
       "        text-align: right;\n",
       "    }\n",
       "</style>\n",
       "<table border=\"1\" class=\"dataframe\">\n",
       "  <thead>\n",
       "    <tr style=\"text-align: right;\">\n",
       "      <th></th>\n",
       "      <th>time</th>\n",
       "      <th>volume</th>\n",
       "      <th>mid_o</th>\n",
       "      <th>mid_h</th>\n",
       "      <th>mid_l</th>\n",
       "      <th>mid_c</th>\n",
       "      <th>bid_o</th>\n",
       "      <th>bid_h</th>\n",
       "      <th>bid_l</th>\n",
       "      <th>bid_c</th>\n",
       "      <th>ask_o</th>\n",
       "      <th>ask_h</th>\n",
       "      <th>ask_l</th>\n",
       "      <th>ask_c</th>\n",
       "    </tr>\n",
       "  </thead>\n",
       "  <tbody>\n",
       "    <tr>\n",
       "      <th>0</th>\n",
       "      <td>2023-01-02 18:00:00+00:00</td>\n",
       "      <td>6672</td>\n",
       "      <td>130.791</td>\n",
       "      <td>130.797</td>\n",
       "      <td>130.659</td>\n",
       "      <td>130.659</td>\n",
       "      <td>130.750</td>\n",
       "      <td>130.760</td>\n",
       "      <td>130.609</td>\n",
       "      <td>130.609</td>\n",
       "      <td>130.832</td>\n",
       "      <td>130.843</td>\n",
       "      <td>130.709</td>\n",
       "      <td>130.709</td>\n",
       "    </tr>\n",
       "    <tr>\n",
       "      <th>1</th>\n",
       "      <td>2023-01-02 22:00:00+00:00</td>\n",
       "      <td>27079</td>\n",
       "      <td>130.659</td>\n",
       "      <td>131.406</td>\n",
       "      <td>129.810</td>\n",
       "      <td>130.154</td>\n",
       "      <td>130.609</td>\n",
       "      <td>131.396</td>\n",
       "      <td>129.796</td>\n",
       "      <td>130.142</td>\n",
       "      <td>130.709</td>\n",
       "      <td>131.418</td>\n",
       "      <td>129.824</td>\n",
       "      <td>130.165</td>\n",
       "    </tr>\n",
       "    <tr>\n",
       "      <th>2</th>\n",
       "      <td>2023-01-03 02:00:00+00:00</td>\n",
       "      <td>29076</td>\n",
       "      <td>130.156</td>\n",
       "      <td>130.310</td>\n",
       "      <td>129.508</td>\n",
       "      <td>129.820</td>\n",
       "      <td>130.145</td>\n",
       "      <td>130.299</td>\n",
       "      <td>129.498</td>\n",
       "      <td>129.809</td>\n",
       "      <td>130.167</td>\n",
       "      <td>130.321</td>\n",
       "      <td>129.517</td>\n",
       "      <td>129.830</td>\n",
       "    </tr>\n",
       "    <tr>\n",
       "      <th>3</th>\n",
       "      <td>2023-01-03 06:00:00+00:00</td>\n",
       "      <td>44882</td>\n",
       "      <td>129.817</td>\n",
       "      <td>130.965</td>\n",
       "      <td>129.618</td>\n",
       "      <td>130.416</td>\n",
       "      <td>129.807</td>\n",
       "      <td>130.956</td>\n",
       "      <td>129.608</td>\n",
       "      <td>130.408</td>\n",
       "      <td>129.827</td>\n",
       "      <td>130.975</td>\n",
       "      <td>129.627</td>\n",
       "      <td>130.425</td>\n",
       "    </tr>\n",
       "    <tr>\n",
       "      <th>4</th>\n",
       "      <td>2023-01-03 10:00:00+00:00</td>\n",
       "      <td>32935</td>\n",
       "      <td>130.408</td>\n",
       "      <td>131.198</td>\n",
       "      <td>130.362</td>\n",
       "      <td>130.656</td>\n",
       "      <td>130.399</td>\n",
       "      <td>131.191</td>\n",
       "      <td>130.353</td>\n",
       "      <td>130.648</td>\n",
       "      <td>130.418</td>\n",
       "      <td>131.206</td>\n",
       "      <td>130.372</td>\n",
       "      <td>130.664</td>\n",
       "    </tr>\n",
       "    <tr>\n",
       "      <th>5</th>\n",
       "      <td>2023-01-03 14:00:00+00:00</td>\n",
       "      <td>36480</td>\n",
       "      <td>130.661</td>\n",
       "      <td>131.111</td>\n",
       "      <td>130.052</td>\n",
       "      <td>130.794</td>\n",
       "      <td>130.653</td>\n",
       "      <td>131.102</td>\n",
       "      <td>130.043</td>\n",
       "      <td>130.784</td>\n",
       "      <td>130.669</td>\n",
       "      <td>131.120</td>\n",
       "      <td>130.061</td>\n",
       "      <td>130.803</td>\n",
       "    </tr>\n",
       "    <tr>\n",
       "      <th>6</th>\n",
       "      <td>2023-01-03 18:00:00+00:00</td>\n",
       "      <td>13656</td>\n",
       "      <td>130.794</td>\n",
       "      <td>131.040</td>\n",
       "      <td>130.576</td>\n",
       "      <td>130.984</td>\n",
       "      <td>130.785</td>\n",
       "      <td>131.030</td>\n",
       "      <td>130.568</td>\n",
       "      <td>130.970</td>\n",
       "      <td>130.802</td>\n",
       "      <td>131.050</td>\n",
       "      <td>130.583</td>\n",
       "      <td>130.997</td>\n",
       "    </tr>\n",
       "    <tr>\n",
       "      <th>7</th>\n",
       "      <td>2023-01-03 22:00:00+00:00</td>\n",
       "      <td>28548</td>\n",
       "      <td>131.002</td>\n",
       "      <td>131.472</td>\n",
       "      <td>130.582</td>\n",
       "      <td>130.650</td>\n",
       "      <td>130.987</td>\n",
       "      <td>131.456</td>\n",
       "      <td>130.571</td>\n",
       "      <td>130.641</td>\n",
       "      <td>131.017</td>\n",
       "      <td>131.489</td>\n",
       "      <td>130.592</td>\n",
       "      <td>130.659</td>\n",
       "    </tr>\n",
       "    <tr>\n",
       "      <th>8</th>\n",
       "      <td>2023-01-04 02:00:00+00:00</td>\n",
       "      <td>20269</td>\n",
       "      <td>130.648</td>\n",
       "      <td>130.998</td>\n",
       "      <td>130.620</td>\n",
       "      <td>130.853</td>\n",
       "      <td>130.639</td>\n",
       "      <td>130.988</td>\n",
       "      <td>130.611</td>\n",
       "      <td>130.845</td>\n",
       "      <td>130.657</td>\n",
       "      <td>131.007</td>\n",
       "      <td>130.627</td>\n",
       "      <td>130.861</td>\n",
       "    </tr>\n",
       "  </tbody>\n",
       "</table>\n",
       "</div>"
      ],
      "text/plain": [
       "                       time  volume    mid_o    mid_h    mid_l    mid_c  \\\n",
       "0 2023-01-02 18:00:00+00:00    6672  130.791  130.797  130.659  130.659   \n",
       "1 2023-01-02 22:00:00+00:00   27079  130.659  131.406  129.810  130.154   \n",
       "2 2023-01-03 02:00:00+00:00   29076  130.156  130.310  129.508  129.820   \n",
       "3 2023-01-03 06:00:00+00:00   44882  129.817  130.965  129.618  130.416   \n",
       "4 2023-01-03 10:00:00+00:00   32935  130.408  131.198  130.362  130.656   \n",
       "5 2023-01-03 14:00:00+00:00   36480  130.661  131.111  130.052  130.794   \n",
       "6 2023-01-03 18:00:00+00:00   13656  130.794  131.040  130.576  130.984   \n",
       "7 2023-01-03 22:00:00+00:00   28548  131.002  131.472  130.582  130.650   \n",
       "8 2023-01-04 02:00:00+00:00   20269  130.648  130.998  130.620  130.853   \n",
       "\n",
       "     bid_o    bid_h    bid_l    bid_c    ask_o    ask_h    ask_l    ask_c  \n",
       "0  130.750  130.760  130.609  130.609  130.832  130.843  130.709  130.709  \n",
       "1  130.609  131.396  129.796  130.142  130.709  131.418  129.824  130.165  \n",
       "2  130.145  130.299  129.498  129.809  130.167  130.321  129.517  129.830  \n",
       "3  129.807  130.956  129.608  130.408  129.827  130.975  129.627  130.425  \n",
       "4  130.399  131.191  130.353  130.648  130.418  131.206  130.372  130.664  \n",
       "5  130.653  131.102  130.043  130.784  130.669  131.120  130.061  130.803  \n",
       "6  130.785  131.030  130.568  130.970  130.802  131.050  130.583  130.997  \n",
       "7  130.987  131.456  130.571  130.641  131.017  131.489  130.592  130.659  \n",
       "8  130.639  130.988  130.611  130.845  130.657  131.007  130.627  130.861  "
      ]
     },
     "execution_count": 47,
     "metadata": {},
     "output_type": "execute_result"
    }
   ],
   "source": [
    "candles_df"
   ]
  },
  {
   "cell_type": "code",
   "execution_count": 48,
   "id": "80c164dd",
   "metadata": {},
   "outputs": [
    {
     "name": "stdout",
     "output_type": "stream",
     "text": [
      "USD_JPY H4 9 candles, 2023-01-02 18:00:00+00:00 2023-01-04 02:00:00+00:00\n"
     ]
    }
   ],
   "source": [
    "create_data_file(\"USD_JPY\", count=10, granularity=\"H4\")"
   ]
  },
  {
   "cell_type": "code",
   "execution_count": 49,
   "id": "05c36d29",
   "metadata": {},
   "outputs": [],
   "source": [
    "our_curr = ['EUR', 'USD', 'GBP', 'JPY', 'CHF', 'NZD', 'CAD', 'AUD']"
   ]
  },
  {
   "cell_type": "code",
   "execution_count": 52,
   "id": "36ed50d5",
   "metadata": {},
   "outputs": [
    {
     "name": "stdout",
     "output_type": "stream",
     "text": [
      "EUR_USD H1 4000 candles, 2022-05-13 10:00:00+00:00 2023-01-04 06:00:00+00:00\n",
      "EUR_USD H4 4000 candles, 2020-06-10 13:00:00+00:00 2023-01-04 02:00:00+00:00\n",
      "EUR_GBP H1 4000 candles, 2022-05-13 11:00:00+00:00 2023-01-04 06:00:00+00:00\n",
      "EUR_GBP H4 4000 candles, 2020-06-10 13:00:00+00:00 2023-01-04 02:00:00+00:00\n",
      "EUR_JPY H1 4000 candles, 2022-05-13 11:00:00+00:00 2023-01-04 06:00:00+00:00\n",
      "EUR_JPY H4 4000 candles, 2020-06-10 05:00:00+00:00 2023-01-04 02:00:00+00:00\n",
      "EUR_CHF H1 4000 candles, 2022-05-13 11:00:00+00:00 2023-01-04 06:00:00+00:00\n",
      "EUR_CHF H4 4000 candles, 2020-06-10 13:00:00+00:00 2023-01-04 02:00:00+00:00\n",
      "EUR_NZD H1 4000 candles, 2022-05-13 10:00:00+00:00 2023-01-04 06:00:00+00:00\n",
      "EUR_NZD H4 4000 candles, 2020-06-10 13:00:00+00:00 2023-01-04 02:00:00+00:00\n",
      "EUR_CAD H1 4000 candles, 2022-05-13 11:00:00+00:00 2023-01-04 06:00:00+00:00\n",
      "EUR_CAD H4 4000 candles, 2020-06-10 13:00:00+00:00 2023-01-04 02:00:00+00:00\n",
      "EUR_AUD H1 4000 candles, 2022-05-13 11:00:00+00:00 2023-01-04 06:00:00+00:00\n",
      "EUR_AUD H4 4000 candles, 2020-06-10 13:00:00+00:00 2023-01-04 02:00:00+00:00\n",
      "USD_JPY H1 4000 candles, 2022-05-13 10:00:00+00:00 2023-01-04 06:00:00+00:00\n",
      "USD_JPY H4 4000 candles, 2020-06-10 17:00:00+00:00 2023-01-04 02:00:00+00:00\n",
      "USD_CHF H1 4000 candles, 2022-05-13 11:00:00+00:00 2023-01-04 06:00:00+00:00\n",
      "USD_CHF H4 4000 candles, 2020-06-10 13:00:00+00:00 2023-01-04 02:00:00+00:00\n",
      "USD_CAD H1 4000 candles, 2022-05-13 11:00:00+00:00 2023-01-04 06:00:00+00:00\n",
      "USD_CAD H4 4000 candles, 2020-06-10 13:00:00+00:00 2023-01-04 02:00:00+00:00\n",
      "GBP_USD H1 4000 candles, 2022-05-13 10:00:00+00:00 2023-01-04 06:00:00+00:00\n",
      "GBP_USD H4 4000 candles, 2020-06-10 13:00:00+00:00 2023-01-04 02:00:00+00:00\n",
      "GBP_JPY H1 4000 candles, 2022-05-13 11:00:00+00:00 2023-01-04 06:00:00+00:00\n",
      "GBP_JPY H4 4000 candles, 2020-06-10 13:00:00+00:00 2023-01-04 02:00:00+00:00\n",
      "GBP_CHF H1 4000 candles, 2022-05-13 11:00:00+00:00 2023-01-04 06:00:00+00:00\n",
      "GBP_CHF H4 4000 candles, 2020-06-10 13:00:00+00:00 2023-01-04 02:00:00+00:00\n",
      "GBP_NZD H1 4000 candles, 2022-05-13 10:00:00+00:00 2023-01-04 06:00:00+00:00\n",
      "GBP_NZD H4 4000 candles, 2020-06-10 13:00:00+00:00 2023-01-04 02:00:00+00:00\n",
      "GBP_CAD H1 4000 candles, 2022-05-13 11:00:00+00:00 2023-01-04 06:00:00+00:00\n",
      "GBP_CAD H4 4000 candles, 2020-06-10 13:00:00+00:00 2023-01-04 02:00:00+00:00\n",
      "GBP_AUD H1 4000 candles, 2022-05-13 10:00:00+00:00 2023-01-04 06:00:00+00:00\n",
      "GBP_AUD H4 4000 candles, 2020-06-10 13:00:00+00:00 2023-01-04 02:00:00+00:00\n",
      "CHF_JPY H1 4000 candles, 2022-05-13 11:00:00+00:00 2023-01-04 06:00:00+00:00\n",
      "CHF_JPY H4 4000 candles, 2020-06-10 13:00:00+00:00 2023-01-04 02:00:00+00:00\n",
      "NZD_USD H1 4000 candles, 2022-05-13 13:00:00+00:00 2023-01-04 06:00:00+00:00\n",
      "NZD_USD H4 4000 candles, 2020-06-10 21:00:00+00:00 2023-01-04 02:00:00+00:00\n",
      "NZD_JPY H1 4000 candles, 2022-05-13 10:00:00+00:00 2023-01-04 06:00:00+00:00\n",
      "NZD_JPY H4 4000 candles, 2020-06-10 17:00:00+00:00 2023-01-04 02:00:00+00:00\n",
      "NZD_CHF H1 4000 candles, 2022-05-13 10:00:00+00:00 2023-01-04 06:00:00+00:00\n",
      "NZD_CHF H4 4000 candles, 2020-06-10 09:00:00+00:00 2023-01-04 02:00:00+00:00\n",
      "NZD_CAD H1 4000 candles, 2022-05-13 10:00:00+00:00 2023-01-04 06:00:00+00:00\n",
      "NZD_CAD H4 4000 candles, 2020-06-10 13:00:00+00:00 2023-01-04 02:00:00+00:00\n",
      "CAD_JPY H1 4000 candles, 2022-05-13 11:00:00+00:00 2023-01-04 06:00:00+00:00\n",
      "CAD_JPY H4 4000 candles, 2020-06-10 13:00:00+00:00 2023-01-04 02:00:00+00:00\n",
      "CAD_CHF H1 4000 candles, 2022-05-13 11:00:00+00:00 2023-01-04 06:00:00+00:00\n",
      "CAD_CHF H4 4000 candles, 2020-06-10 13:00:00+00:00 2023-01-04 02:00:00+00:00\n",
      "AUD_USD H1 4000 candles, 2022-05-13 10:00:00+00:00 2023-01-04 06:00:00+00:00\n",
      "AUD_USD H4 4000 candles, 2020-06-10 13:00:00+00:00 2023-01-04 02:00:00+00:00\n",
      "AUD_JPY H1 4000 candles, 2022-05-13 11:00:00+00:00 2023-01-04 06:00:00+00:00\n",
      "AUD_JPY H4 4000 candles, 2020-06-11 13:00:00+00:00 2023-01-04 02:00:00+00:00\n",
      "AUD_CHF H1 4000 candles, 2022-05-13 10:00:00+00:00 2023-01-04 06:00:00+00:00\n",
      "AUD_CHF H4 4000 candles, 2020-06-10 09:00:00+00:00 2023-01-04 02:00:00+00:00\n",
      "AUD_NZD H1 4000 candles, 2022-05-13 10:00:00+00:00 2023-01-04 06:00:00+00:00\n",
      "AUD_NZD H4 4000 candles, 2020-06-10 09:00:00+00:00 2023-01-04 02:00:00+00:00\n",
      "AUD_CAD H1 4000 candles, 2022-05-13 11:00:00+00:00 2023-01-04 06:00:00+00:00\n",
      "AUD_CAD H4 4000 candles, 2020-06-10 13:00:00+00:00 2023-01-04 02:00:00+00:00\n"
     ]
    }
   ],
   "source": [
    "for p1 in our_curr:\n",
    "    for p2 in our_curr:\n",
    "        pr = f\"{p1}_{p2}\"\n",
    "        if pr in instruments_dict:\n",
    "            for g in [\"H1\", \"H4\"]:\n",
    "                create_data_file(pr, count=4001, granularity=g)"
   ]
  },
  {
   "cell_type": "code",
   "execution_count": null,
   "id": "165bff65",
   "metadata": {},
   "outputs": [],
   "source": []
  },
  {
   "cell_type": "code",
   "execution_count": null,
   "id": "1a4700eb",
   "metadata": {},
   "outputs": [],
   "source": []
  },
  {
   "cell_type": "code",
   "execution_count": null,
   "id": "46f9cd07",
   "metadata": {},
   "outputs": [],
   "source": []
  },
  {
   "cell_type": "code",
   "execution_count": null,
   "id": "5f564ec0",
   "metadata": {},
   "outputs": [],
   "source": []
  },
  {
   "cell_type": "code",
   "execution_count": null,
   "id": "78311cf4",
   "metadata": {},
   "outputs": [],
   "source": []
  },
  {
   "cell_type": "code",
   "execution_count": null,
   "id": "6c9826b2",
   "metadata": {},
   "outputs": [],
   "source": []
  },
  {
   "cell_type": "code",
   "execution_count": null,
   "id": "fb530efc",
   "metadata": {},
   "outputs": [],
   "source": []
  },
  {
   "cell_type": "code",
   "execution_count": null,
   "id": "58608036",
   "metadata": {},
   "outputs": [],
   "source": []
  }
 ],
 "metadata": {
  "kernelspec": {
   "display_name": "venv",
   "language": "python",
   "name": "python3"
  },
  "language_info": {
   "codemirror_mode": {
    "name": "ipython",
    "version": 3
   },
   "file_extension": ".py",
   "mimetype": "text/x-python",
   "name": "python",
   "nbconvert_exporter": "python",
   "pygments_lexer": "ipython3",
   "version": "3.11.0 (main, Oct 24 2022, 18:26:48) [MSC v.1933 64 bit (AMD64)]"
  },
  "vscode": {
   "interpreter": {
    "hash": "5837955e4be0ec061c6f841c6664eea747c0a391326eba551e3bb537422410a6"
   }
  }
 },
 "nbformat": 4,
 "nbformat_minor": 5
}
