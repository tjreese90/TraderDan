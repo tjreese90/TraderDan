{
 "cells": [
  {
   "cell_type": "code",
   "execution_count": 1,
   "id": "408f3e9b",
   "metadata": {},
   "outputs": [],
   "source": [
    "import requests\n",
    "import pandas as pd\n",
    "import json\n",
    "from dateutil import parser"
   ]
  },
  {
   "cell_type": "code",
   "execution_count": 2,
   "id": "3fd3e2dc",
   "metadata": {},
   "outputs": [],
   "source": [
    "API_KEY = \"91e97c7b261216d6e6727272d86892a0-da24a042336ef33336d716c451ea6d36\"\n",
    "ACCOUNT_ID = \"101-001-24345029-002\"\n",
    "URL = \"https://api-fxpractice.oanda.com/v3/\""
   ]
  },
  {
   "cell_type": "code",
   "execution_count": 3,
   "id": "226a8ce9",
   "metadata": {},
   "outputs": [],
   "source": [
    "session = requests.Session()"
   ]
  },
  {
   "cell_type": "code",
   "execution_count": 4,
   "id": "fef62bc0",
   "metadata": {},
   "outputs": [],
   "source": [
    "session.headers.update({\n",
    "    \"Authorization\" : f\"Bearer {API_KEY}\",\n",
    "    \"Content-Type\" : \"application/json\"\n",
    "})"
   ]
  },
  {
   "cell_type": "code",
   "execution_count": 5,
   "id": "467d5027",
   "metadata": {},
   "outputs": [],
   "source": [
    "params = dict(\n",
    "count = 10,\n",
    "granularity = \"H1\",\n",
    "price = \"MBA\"\n",
    ")"
   ]
  },
  {
   "cell_type": "code",
   "execution_count": 6,
   "id": "275062e0",
   "metadata": {},
   "outputs": [],
   "source": [
    "url = f\"{URL}/accounts/{ACCOUNT_ID}/instruments\""
   ]
  },
  {
   "cell_type": "code",
   "execution_count": 7,
   "id": "b654cd08",
   "metadata": {},
   "outputs": [],
   "source": [
    "response = session.get(url, params=None, data=None, headers=None)"
   ]
  },
  {
   "cell_type": "raw",
   "id": "cc1ddb21",
   "metadata": {},
   "source": [
    "response.status_code"
   ]
  },
  {
   "cell_type": "code",
   "execution_count": 8,
   "id": "eac9150a",
   "metadata": {},
   "outputs": [],
   "source": [
    "data = response.json()"
   ]
  },
  {
   "cell_type": "code",
   "execution_count": 9,
   "id": "9a29b414",
   "metadata": {},
   "outputs": [],
   "source": [
    "instruments_list = data['instruments']"
   ]
  },
  {
   "cell_type": "code",
   "execution_count": 10,
   "id": "c5ed26e0",
   "metadata": {},
   "outputs": [
    {
     "data": {
      "text/plain": [
       "dict_keys(['name', 'type', 'displayName', 'pipLocation', 'displayPrecision', 'tradeUnitsPrecision', 'minimumTradeSize', 'maximumTrailingStopDistance', 'minimumTrailingStopDistance', 'maximumPositionSize', 'maximumOrderUnits', 'marginRate', 'guaranteedStopLossOrderMode', 'tags', 'financing'])"
      ]
     },
     "execution_count": 10,
     "metadata": {},
     "output_type": "execute_result"
    }
   ],
   "source": [
    "instruments_list[0].keys()"
   ]
  },
  {
   "cell_type": "code",
   "execution_count": 11,
   "id": "ad1e3147",
   "metadata": {},
   "outputs": [],
   "source": [
    "key_i = ['name', 'type', 'displayName', 'pipLocation', 'displayPrecision', 'tradeUnitsPrecision','marginRate']"
   ]
  },
  {
   "cell_type": "code",
   "execution_count": 12,
   "id": "767d59dd",
   "metadata": {},
   "outputs": [],
   "source": [
    "instruments_dict = {}\n",
    "for i in instruments_list:\n",
    "    key = (i['name'])\n",
    "    instruments_dict[key] = {k: i[k] for k in key_i}"
   ]
  },
  {
   "cell_type": "code",
   "execution_count": 13,
   "id": "d95e6ce1",
   "metadata": {},
   "outputs": [
    {
     "data": {
      "text/plain": [
       "{'name': 'USD_JPY',\n",
       " 'type': 'CURRENCY',\n",
       " 'displayName': 'USD/JPY',\n",
       " 'pipLocation': -2,\n",
       " 'displayPrecision': 3,\n",
       " 'tradeUnitsPrecision': 0,\n",
       " 'marginRate': '0.02'}"
      ]
     },
     "execution_count": 13,
     "metadata": {},
     "output_type": "execute_result"
    }
   ],
   "source": [
    "instruments_dict['USD_JPY']"
   ]
  },
  {
   "cell_type": "code",
   "execution_count": 14,
   "id": "6fbdd977",
   "metadata": {},
   "outputs": [],
   "source": [
    "with open(\"../data/instruments.json\", \"w\") as f:\n",
    "    f.write(json.dumps(instruments_dict, indent=2))"
   ]
  },
  {
   "cell_type": "code",
   "execution_count": 15,
   "id": "5caaf468",
   "metadata": {},
   "outputs": [],
   "source": [
    "def fetch_candles(pair_name, count=10, granularity=\"H1\"): \n",
    "    url = f\"{URL}/instruments/{pair_name}/candles\"\n",
    "    params = dict(\n",
    "    count = count,\n",
    "    granularity = granularity,\n",
    "    price = \"MBA\"\n",
    "    )\n",
    "    response = session.get(url, params=params, data=None, headers=None)\n",
    "    data = response.json()\n",
    "    \n",
    "    if response.status_code == 200:\n",
    "        if 'candles' not in data:\n",
    "            data = []\n",
    "        else:\n",
    "            data = data['candles']\n",
    "        return response.status_code, data\n",
    "\n",
    "def get_candles_df(data):\n",
    "    prices = ['mid', 'bid', 'ask']\n",
    "    ohlc = ['o', 'h', 'l', 'c']\n",
    "    if len(data) == 0:\n",
    "        return pd.DataFrame()\n",
    "    \n",
    "    final_data = []\n",
    "    for candle in data:\n",
    "        if candle['complete'] == False:\n",
    "            continue\n",
    "        new_dict = {}\n",
    "        new_dict['time'] = parser.parse(candle['time'])\n",
    "        new_dict['volume'] = candle['volume']\n",
    "        for p in prices:\n",
    "            for o in ohlc:\n",
    "                new_dict[f\"{p}_{o}\"] = float(candle[p][o])\n",
    "        final_data.append(new_dict)\n",
    "    df = pd.DataFrame.from_dict(final_data)\n",
    "    return df\n",
    "\n",
    "def create_data_file(pair_name, count=10, granularity=\"H1\"):\n",
    "    code, data = fetch_candles(pair_name, count, granularity)\n",
    "    if code != 200:\n",
    "        print(\"Failed\", pair_name, data)\n",
    "        return\n",
    "    if len(data) == 0:\n",
    "        print(\"No candles\", pair_name)\n",
    "    candles_df = get_candles_df(data)\n",
    "    candles_df.to_pickle(f\"../data/{pair_name}_{granularity}.pk1\")\n",
    "    print(f\"{pair_name} {granularity} {candles_df.shape[0]} candles, {candles_df.time.min()} {candles_df.time.max()}\")"
   ]
  },
  {
   "cell_type": "code",
   "execution_count": 16,
   "id": "1e63ad00",
   "metadata": {},
   "outputs": [],
   "source": [
    "code, data = fetch_candles(\"USD_JPY\", count=10, granularity=\"H4\")\n",
    "candles_df = get_candles_df(data)"
   ]
  },
  {
   "cell_type": "code",
   "execution_count": 17,
   "id": "c464fe21",
   "metadata": {},
   "outputs": [
    {
     "data": {
      "text/html": [
       "<div>\n",
       "<style scoped>\n",
       "    .dataframe tbody tr th:only-of-type {\n",
       "        vertical-align: middle;\n",
       "    }\n",
       "\n",
       "    .dataframe tbody tr th {\n",
       "        vertical-align: top;\n",
       "    }\n",
       "\n",
       "    .dataframe thead th {\n",
       "        text-align: right;\n",
       "    }\n",
       "</style>\n",
       "<table border=\"1\" class=\"dataframe\">\n",
       "  <thead>\n",
       "    <tr style=\"text-align: right;\">\n",
       "      <th></th>\n",
       "      <th>time</th>\n",
       "      <th>volume</th>\n",
       "      <th>mid_o</th>\n",
       "      <th>mid_h</th>\n",
       "      <th>mid_l</th>\n",
       "      <th>mid_c</th>\n",
       "      <th>bid_o</th>\n",
       "      <th>bid_h</th>\n",
       "      <th>bid_l</th>\n",
       "      <th>bid_c</th>\n",
       "      <th>ask_o</th>\n",
       "      <th>ask_h</th>\n",
       "      <th>ask_l</th>\n",
       "      <th>ask_c</th>\n",
       "    </tr>\n",
       "  </thead>\n",
       "  <tbody>\n",
       "    <tr>\n",
       "      <th>0</th>\n",
       "      <td>2023-01-26 06:00:00+00:00</td>\n",
       "      <td>32496</td>\n",
       "      <td>129.330</td>\n",
       "      <td>129.995</td>\n",
       "      <td>129.199</td>\n",
       "      <td>129.959</td>\n",
       "      <td>129.321</td>\n",
       "      <td>129.986</td>\n",
       "      <td>129.190</td>\n",
       "      <td>129.950</td>\n",
       "      <td>129.338</td>\n",
       "      <td>130.004</td>\n",
       "      <td>129.207</td>\n",
       "      <td>129.968</td>\n",
       "    </tr>\n",
       "    <tr>\n",
       "      <th>1</th>\n",
       "      <td>2023-01-26 10:00:00+00:00</td>\n",
       "      <td>33095</td>\n",
       "      <td>129.956</td>\n",
       "      <td>130.363</td>\n",
       "      <td>129.627</td>\n",
       "      <td>129.874</td>\n",
       "      <td>129.947</td>\n",
       "      <td>130.313</td>\n",
       "      <td>129.617</td>\n",
       "      <td>129.864</td>\n",
       "      <td>129.966</td>\n",
       "      <td>130.413</td>\n",
       "      <td>129.637</td>\n",
       "      <td>129.884</td>\n",
       "    </tr>\n",
       "    <tr>\n",
       "      <th>2</th>\n",
       "      <td>2023-01-26 14:00:00+00:00</td>\n",
       "      <td>41738</td>\n",
       "      <td>129.878</td>\n",
       "      <td>130.621</td>\n",
       "      <td>129.704</td>\n",
       "      <td>130.340</td>\n",
       "      <td>129.868</td>\n",
       "      <td>130.612</td>\n",
       "      <td>129.695</td>\n",
       "      <td>130.331</td>\n",
       "      <td>129.887</td>\n",
       "      <td>130.630</td>\n",
       "      <td>129.713</td>\n",
       "      <td>130.348</td>\n",
       "    </tr>\n",
       "    <tr>\n",
       "      <th>3</th>\n",
       "      <td>2023-01-26 18:00:00+00:00</td>\n",
       "      <td>17293</td>\n",
       "      <td>130.336</td>\n",
       "      <td>130.336</td>\n",
       "      <td>130.052</td>\n",
       "      <td>130.238</td>\n",
       "      <td>130.327</td>\n",
       "      <td>130.327</td>\n",
       "      <td>130.044</td>\n",
       "      <td>130.226</td>\n",
       "      <td>130.345</td>\n",
       "      <td>130.345</td>\n",
       "      <td>130.060</td>\n",
       "      <td>130.249</td>\n",
       "    </tr>\n",
       "    <tr>\n",
       "      <th>4</th>\n",
       "      <td>2023-01-26 22:00:00+00:00</td>\n",
       "      <td>41895</td>\n",
       "      <td>130.221</td>\n",
       "      <td>130.242</td>\n",
       "      <td>129.496</td>\n",
       "      <td>129.692</td>\n",
       "      <td>130.175</td>\n",
       "      <td>130.217</td>\n",
       "      <td>129.486</td>\n",
       "      <td>129.684</td>\n",
       "      <td>130.267</td>\n",
       "      <td>130.283</td>\n",
       "      <td>129.505</td>\n",
       "      <td>129.701</td>\n",
       "    </tr>\n",
       "    <tr>\n",
       "      <th>5</th>\n",
       "      <td>2023-01-27 02:00:00+00:00</td>\n",
       "      <td>20531</td>\n",
       "      <td>129.690</td>\n",
       "      <td>130.156</td>\n",
       "      <td>129.612</td>\n",
       "      <td>129.984</td>\n",
       "      <td>129.681</td>\n",
       "      <td>130.148</td>\n",
       "      <td>129.602</td>\n",
       "      <td>129.975</td>\n",
       "      <td>129.698</td>\n",
       "      <td>130.165</td>\n",
       "      <td>129.621</td>\n",
       "      <td>129.992</td>\n",
       "    </tr>\n",
       "    <tr>\n",
       "      <th>6</th>\n",
       "      <td>2023-01-27 06:00:00+00:00</td>\n",
       "      <td>25123</td>\n",
       "      <td>129.980</td>\n",
       "      <td>130.269</td>\n",
       "      <td>129.716</td>\n",
       "      <td>129.854</td>\n",
       "      <td>129.972</td>\n",
       "      <td>130.259</td>\n",
       "      <td>129.707</td>\n",
       "      <td>129.845</td>\n",
       "      <td>129.989</td>\n",
       "      <td>130.280</td>\n",
       "      <td>129.726</td>\n",
       "      <td>129.862</td>\n",
       "    </tr>\n",
       "    <tr>\n",
       "      <th>7</th>\n",
       "      <td>2023-01-27 10:00:00+00:00</td>\n",
       "      <td>26587</td>\n",
       "      <td>129.852</td>\n",
       "      <td>129.999</td>\n",
       "      <td>129.558</td>\n",
       "      <td>129.738</td>\n",
       "      <td>129.844</td>\n",
       "      <td>129.991</td>\n",
       "      <td>129.550</td>\n",
       "      <td>129.730</td>\n",
       "      <td>129.860</td>\n",
       "      <td>130.008</td>\n",
       "      <td>129.566</td>\n",
       "      <td>129.746</td>\n",
       "    </tr>\n",
       "    <tr>\n",
       "      <th>8</th>\n",
       "      <td>2023-01-27 14:00:00+00:00</td>\n",
       "      <td>34124</td>\n",
       "      <td>129.731</td>\n",
       "      <td>130.070</td>\n",
       "      <td>129.642</td>\n",
       "      <td>129.914</td>\n",
       "      <td>129.723</td>\n",
       "      <td>130.062</td>\n",
       "      <td>129.633</td>\n",
       "      <td>129.907</td>\n",
       "      <td>129.739</td>\n",
       "      <td>130.079</td>\n",
       "      <td>129.650</td>\n",
       "      <td>129.922</td>\n",
       "    </tr>\n",
       "    <tr>\n",
       "      <th>9</th>\n",
       "      <td>2023-01-27 18:00:00+00:00</td>\n",
       "      <td>12665</td>\n",
       "      <td>129.914</td>\n",
       "      <td>129.952</td>\n",
       "      <td>129.806</td>\n",
       "      <td>129.832</td>\n",
       "      <td>129.905</td>\n",
       "      <td>129.944</td>\n",
       "      <td>129.776</td>\n",
       "      <td>129.802</td>\n",
       "      <td>129.922</td>\n",
       "      <td>129.960</td>\n",
       "      <td>129.822</td>\n",
       "      <td>129.862</td>\n",
       "    </tr>\n",
       "  </tbody>\n",
       "</table>\n",
       "</div>"
      ],
      "text/plain": [
       "                       time  volume    mid_o    mid_h    mid_l    mid_c  \\\n",
       "0 2023-01-26 06:00:00+00:00   32496  129.330  129.995  129.199  129.959   \n",
       "1 2023-01-26 10:00:00+00:00   33095  129.956  130.363  129.627  129.874   \n",
       "2 2023-01-26 14:00:00+00:00   41738  129.878  130.621  129.704  130.340   \n",
       "3 2023-01-26 18:00:00+00:00   17293  130.336  130.336  130.052  130.238   \n",
       "4 2023-01-26 22:00:00+00:00   41895  130.221  130.242  129.496  129.692   \n",
       "5 2023-01-27 02:00:00+00:00   20531  129.690  130.156  129.612  129.984   \n",
       "6 2023-01-27 06:00:00+00:00   25123  129.980  130.269  129.716  129.854   \n",
       "7 2023-01-27 10:00:00+00:00   26587  129.852  129.999  129.558  129.738   \n",
       "8 2023-01-27 14:00:00+00:00   34124  129.731  130.070  129.642  129.914   \n",
       "9 2023-01-27 18:00:00+00:00   12665  129.914  129.952  129.806  129.832   \n",
       "\n",
       "     bid_o    bid_h    bid_l    bid_c    ask_o    ask_h    ask_l    ask_c  \n",
       "0  129.321  129.986  129.190  129.950  129.338  130.004  129.207  129.968  \n",
       "1  129.947  130.313  129.617  129.864  129.966  130.413  129.637  129.884  \n",
       "2  129.868  130.612  129.695  130.331  129.887  130.630  129.713  130.348  \n",
       "3  130.327  130.327  130.044  130.226  130.345  130.345  130.060  130.249  \n",
       "4  130.175  130.217  129.486  129.684  130.267  130.283  129.505  129.701  \n",
       "5  129.681  130.148  129.602  129.975  129.698  130.165  129.621  129.992  \n",
       "6  129.972  130.259  129.707  129.845  129.989  130.280  129.726  129.862  \n",
       "7  129.844  129.991  129.550  129.730  129.860  130.008  129.566  129.746  \n",
       "8  129.723  130.062  129.633  129.907  129.739  130.079  129.650  129.922  \n",
       "9  129.905  129.944  129.776  129.802  129.922  129.960  129.822  129.862  "
      ]
     },
     "execution_count": 17,
     "metadata": {},
     "output_type": "execute_result"
    }
   ],
   "source": [
    "candles_df"
   ]
  },
  {
   "cell_type": "code",
   "execution_count": 18,
   "id": "80c164dd",
   "metadata": {},
   "outputs": [
    {
     "name": "stdout",
     "output_type": "stream",
     "text": [
      "USD_JPY H4 10 candles, 2023-01-26 06:00:00+00:00 2023-01-27 18:00:00+00:00\n"
     ]
    }
   ],
   "source": [
    "create_data_file(\"USD_JPY\", count=10, granularity=\"H4\")"
   ]
  },
  {
   "cell_type": "code",
   "execution_count": 19,
   "id": "05c36d29",
   "metadata": {},
   "outputs": [],
   "source": [
    "our_curr = ['EUR', 'USD', 'GBP', 'JPY', 'CHF', 'NZD', 'CAD', 'AUD']"
   ]
  },
  {
   "cell_type": "code",
   "execution_count": 20,
   "id": "36ed50d5",
   "metadata": {},
   "outputs": [
    {
     "name": "stdout",
     "output_type": "stream",
     "text": [
      "EUR_USD H1 4001 candles, 2022-06-08 00:00:00+00:00 2023-01-27 21:00:00+00:00\n",
      "EUR_USD H4 4001 candles, 2020-07-06 01:00:00+00:00 2023-01-27 18:00:00+00:00\n",
      "EUR_GBP H1 4001 candles, 2022-06-08 01:00:00+00:00 2023-01-27 21:00:00+00:00\n",
      "EUR_GBP H4 4001 candles, 2020-07-06 01:00:00+00:00 2023-01-27 18:00:00+00:00\n",
      "EUR_JPY H1 4001 candles, 2022-06-08 01:00:00+00:00 2023-01-27 21:00:00+00:00\n",
      "EUR_JPY H4 4001 candles, 2020-07-03 17:00:00+00:00 2023-01-27 18:00:00+00:00\n",
      "EUR_CHF H1 4001 candles, 2022-06-08 01:00:00+00:00 2023-01-27 21:00:00+00:00\n",
      "EUR_CHF H4 4001 candles, 2020-07-06 01:00:00+00:00 2023-01-27 18:00:00+00:00\n",
      "EUR_NZD H1 4001 candles, 2022-06-08 00:00:00+00:00 2023-01-27 21:00:00+00:00\n",
      "EUR_NZD H4 4001 candles, 2020-07-06 01:00:00+00:00 2023-01-27 18:00:00+00:00\n",
      "EUR_CAD H1 4001 candles, 2022-06-08 01:00:00+00:00 2023-01-27 21:00:00+00:00\n",
      "EUR_CAD H4 4001 candles, 2020-07-06 01:00:00+00:00 2023-01-27 18:00:00+00:00\n",
      "EUR_AUD H1 4001 candles, 2022-06-08 01:00:00+00:00 2023-01-27 21:00:00+00:00\n",
      "EUR_AUD H4 4001 candles, 2020-07-06 01:00:00+00:00 2023-01-27 18:00:00+00:00\n",
      "USD_JPY H1 4001 candles, 2022-06-08 00:00:00+00:00 2023-01-27 21:00:00+00:00\n",
      "USD_JPY H4 4001 candles, 2020-07-06 05:00:00+00:00 2023-01-27 18:00:00+00:00\n",
      "USD_CHF H1 4001 candles, 2022-06-08 01:00:00+00:00 2023-01-27 21:00:00+00:00\n",
      "USD_CHF H4 4001 candles, 2020-07-06 01:00:00+00:00 2023-01-27 18:00:00+00:00\n",
      "USD_CAD H1 4001 candles, 2022-06-08 01:00:00+00:00 2023-01-27 21:00:00+00:00\n",
      "USD_CAD H4 4001 candles, 2020-07-06 01:00:00+00:00 2023-01-27 18:00:00+00:00\n",
      "GBP_USD H1 4001 candles, 2022-06-08 00:00:00+00:00 2023-01-27 21:00:00+00:00\n",
      "GBP_USD H4 4001 candles, 2020-07-06 01:00:00+00:00 2023-01-27 18:00:00+00:00\n",
      "GBP_JPY H1 4001 candles, 2022-06-08 01:00:00+00:00 2023-01-27 21:00:00+00:00\n",
      "GBP_JPY H4 4001 candles, 2020-07-06 01:00:00+00:00 2023-01-27 18:00:00+00:00\n",
      "GBP_CHF H1 4001 candles, 2022-06-08 01:00:00+00:00 2023-01-27 21:00:00+00:00\n",
      "GBP_CHF H4 4001 candles, 2020-07-06 01:00:00+00:00 2023-01-27 18:00:00+00:00\n",
      "GBP_NZD H1 4001 candles, 2022-06-08 00:00:00+00:00 2023-01-27 21:00:00+00:00\n",
      "GBP_NZD H4 4001 candles, 2020-07-06 01:00:00+00:00 2023-01-27 18:00:00+00:00\n",
      "GBP_CAD H1 4001 candles, 2022-06-08 01:00:00+00:00 2023-01-27 21:00:00+00:00\n",
      "GBP_CAD H4 4001 candles, 2020-07-06 01:00:00+00:00 2023-01-27 18:00:00+00:00\n",
      "GBP_AUD H1 4001 candles, 2022-06-08 00:00:00+00:00 2023-01-27 21:00:00+00:00\n",
      "GBP_AUD H4 4001 candles, 2020-07-06 01:00:00+00:00 2023-01-27 18:00:00+00:00\n",
      "CHF_JPY H1 4001 candles, 2022-06-08 01:00:00+00:00 2023-01-27 21:00:00+00:00\n",
      "CHF_JPY H4 4001 candles, 2020-07-06 01:00:00+00:00 2023-01-27 18:00:00+00:00\n",
      "NZD_USD H1 4001 candles, 2022-06-08 03:00:00+00:00 2023-01-27 21:00:00+00:00\n",
      "NZD_USD H4 4001 candles, 2020-07-06 09:00:00+00:00 2023-01-27 18:00:00+00:00\n",
      "NZD_JPY H1 4001 candles, 2022-06-08 00:00:00+00:00 2023-01-27 21:00:00+00:00\n",
      "NZD_JPY H4 4001 candles, 2020-07-06 05:00:00+00:00 2023-01-27 18:00:00+00:00\n",
      "NZD_CHF H1 4001 candles, 2022-06-08 00:00:00+00:00 2023-01-27 21:00:00+00:00\n",
      "NZD_CHF H4 4001 candles, 2020-07-05 21:00:00+00:00 2023-01-27 18:00:00+00:00\n",
      "NZD_CAD H1 4001 candles, 2022-06-08 00:00:00+00:00 2023-01-27 21:00:00+00:00\n",
      "NZD_CAD H4 4001 candles, 2020-07-06 01:00:00+00:00 2023-01-27 18:00:00+00:00\n",
      "CAD_JPY H1 4001 candles, 2022-06-08 01:00:00+00:00 2023-01-27 21:00:00+00:00\n",
      "CAD_JPY H4 4001 candles, 2020-07-06 01:00:00+00:00 2023-01-27 18:00:00+00:00\n",
      "CAD_CHF H1 4001 candles, 2022-06-08 01:00:00+00:00 2023-01-27 21:00:00+00:00\n",
      "CAD_CHF H4 4001 candles, 2020-07-06 01:00:00+00:00 2023-01-27 18:00:00+00:00\n",
      "AUD_USD H1 4001 candles, 2022-06-08 00:00:00+00:00 2023-01-27 21:00:00+00:00\n",
      "AUD_USD H4 4001 candles, 2020-07-06 01:00:00+00:00 2023-01-27 18:00:00+00:00\n",
      "AUD_JPY H1 4001 candles, 2022-06-08 01:00:00+00:00 2023-01-27 21:00:00+00:00\n",
      "AUD_JPY H4 4001 candles, 2020-07-07 01:00:00+00:00 2023-01-27 18:00:00+00:00\n",
      "AUD_CHF H1 4001 candles, 2022-06-08 00:00:00+00:00 2023-01-27 21:00:00+00:00\n",
      "AUD_CHF H4 4001 candles, 2020-07-05 21:00:00+00:00 2023-01-27 18:00:00+00:00\n",
      "AUD_NZD H1 4001 candles, 2022-06-08 00:00:00+00:00 2023-01-27 21:00:00+00:00\n",
      "AUD_NZD H4 4001 candles, 2020-07-05 21:00:00+00:00 2023-01-27 18:00:00+00:00\n",
      "AUD_CAD H1 4001 candles, 2022-06-08 01:00:00+00:00 2023-01-27 21:00:00+00:00\n",
      "AUD_CAD H4 4001 candles, 2020-07-06 01:00:00+00:00 2023-01-27 18:00:00+00:00\n"
     ]
    }
   ],
   "source": [
    "for p1 in our_curr:\n",
    "    for p2 in our_curr:\n",
    "        pr = f\"{p1}_{p2}\"\n",
    "        if pr in instruments_dict:\n",
    "            for g in [\"H1\", \"H4\"]:\n",
    "                create_data_file(pr, count=4001, granularity=g)"
   ]
  },
  {
   "cell_type": "code",
   "execution_count": null,
   "id": "165bff65",
   "metadata": {},
   "outputs": [],
   "source": []
  },
  {
   "cell_type": "code",
   "execution_count": null,
   "id": "1a4700eb",
   "metadata": {},
   "outputs": [],
   "source": []
  },
  {
   "cell_type": "code",
   "execution_count": null,
   "id": "46f9cd07",
   "metadata": {},
   "outputs": [],
   "source": []
  },
  {
   "cell_type": "code",
   "execution_count": null,
   "id": "5f564ec0",
   "metadata": {},
   "outputs": [],
   "source": []
  },
  {
   "cell_type": "code",
   "execution_count": null,
   "id": "78311cf4",
   "metadata": {},
   "outputs": [],
   "source": []
  },
  {
   "cell_type": "code",
   "execution_count": null,
   "id": "6c9826b2",
   "metadata": {},
   "outputs": [],
   "source": []
  },
  {
   "cell_type": "code",
   "execution_count": null,
   "id": "fb530efc",
   "metadata": {},
   "outputs": [],
   "source": []
  },
  {
   "cell_type": "code",
   "execution_count": null,
   "id": "58608036",
   "metadata": {},
   "outputs": [],
   "source": []
  }
 ],
 "metadata": {
  "kernelspec": {
   "display_name": "venv",
   "language": "python",
   "name": "python3"
  },
  "language_info": {
   "codemirror_mode": {
    "name": "ipython",
    "version": 3
   },
   "file_extension": ".py",
   "mimetype": "text/x-python",
   "name": "python",
   "nbconvert_exporter": "python",
   "pygments_lexer": "ipython3",
   "version": "3.11.0"
  },
  "vscode": {
   "interpreter": {
    "hash": "5837955e4be0ec061c6f841c6664eea747c0a391326eba551e3bb537422410a6"
   }
  }
 },
 "nbformat": 4,
 "nbformat_minor": 5
}
