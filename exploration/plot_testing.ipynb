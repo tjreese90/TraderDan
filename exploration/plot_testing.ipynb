{
 "cells": [
  {
   "cell_type": "code",
   "execution_count": 2,
   "metadata": {},
   "outputs": [],
   "source": [
    "import pandas as pd\n",
    "import plotly.graph_objects as go\n",
    "import datetime as dt\n",
    "from plotting import CandlePlot"
   ]
  },
  {
   "cell_type": "code",
   "execution_count": 3,
   "metadata": {},
   "outputs": [],
   "source": [
    "pair = \"USD_JPY\"\n",
    "granularity = \"H4\"\n",
    "df = pd.read_pickle(f\"../data/{pair}_{granularity}.pk1\")"
   ]
  },
  {
   "cell_type": "code",
   "execution_count": 4,
   "metadata": {},
   "outputs": [],
   "source": [
    "df_plot = df.iloc[:100]"
   ]
  },
  {
   "cell_type": "code",
   "execution_count": 5,
   "metadata": {},
   "outputs": [
    {
     "data": {
      "text/plain": [
       "(100, 14)"
      ]
     },
     "execution_count": 5,
     "metadata": {},
     "output_type": "execute_result"
    }
   ],
   "source": [
    "df_plot.shape"
   ]
  },
  {
   "cell_type": "code",
   "execution_count": 6,
   "metadata": {},
   "outputs": [],
   "source": [
    "cp = CandlePlot(df_plot)"
   ]
  },
  {
   "cell_type": "code",
   "execution_count": 7,
   "metadata": {},
   "outputs": [
    {
     "data": {
      "application/vnd.plotly.v1+json": {
       "config": {
        "plotlyServerURL": "https://plot.ly"
       },
       "data": [
        {
         "close": [
          106.999,
          107.084,
          106.828,
          106.86,
          106.677,
          106.865,
          106.669,
          107.142,
          107.296,
          107.393,
          107.499,
          107.392,
          107.216,
          107.074,
          107.307,
          107.419,
          107.238,
          107.324,
          107.322,
          107.486,
          107.456,
          107.406,
          107.336,
          107.324,
          107.331,
          107.224,
          107.43,
          107.384,
          107.284,
          107.007,
          106.796,
          106.834,
          107.035,
          106.796,
          106.884,
          106.973,
          106.925,
          106.855,
          106.928,
          106.869,
          106.845,
          106.891,
          106.822,
          106.912,
          106.903,
          106.881,
          106.868,
          106.906,
          106.952,
          107.138,
          107.042,
          106.624,
          106.465,
          106.526,
          106.548,
          106.574,
          106.526,
          106.756,
          106.829,
          107.042,
          107.07,
          107.136,
          107.21,
          107.299,
          107.188,
          107.195,
          107.184,
          107.083,
          106.864,
          107.046,
          107.144,
          107.219,
          107.27,
          107.086,
          107.202,
          107.334,
          107.774,
          107.572,
          107.7,
          107.718,
          107.688,
          107.727,
          107.826,
          107.933,
          108.091,
          107.659,
          107.532,
          107.444,
          107.423,
          107.463,
          107.474,
          107.434,
          107.374,
          107.63,
          107.584,
          107.502,
          107.51,
          107.516,
          107.465,
          107.515
         ],
         "decreasing": {
          "fillcolor": "#CC2E3C",
          "line": {
           "color": "#FF3A4C"
          }
         },
         "high": [
          107.155,
          107.13,
          107.236,
          107.139,
          106.977,
          106.92,
          106.885,
          107.275,
          107.346,
          107.556,
          107.508,
          107.524,
          107.57,
          107.328,
          107.442,
          107.448,
          107.495,
          107.39,
          107.502,
          107.642,
          107.567,
          107.471,
          107.625,
          107.368,
          107.436,
          107.373,
          107.442,
          107.437,
          107.384,
          107.286,
          107.057,
          106.942,
          107.076,
          107.129,
          107.013,
          107.099,
          107.06,
          106.96,
          107,
          106.976,
          107.046,
          106.919,
          106.906,
          106.947,
          107.012,
          106.959,
          106.924,
          106.962,
          106.96,
          107.222,
          107.218,
          107.116,
          106.64,
          106.551,
          106.638,
          106.591,
          106.648,
          106.804,
          106.984,
          107.072,
          107.15,
          107.262,
          107.223,
          107.452,
          107.328,
          107.242,
          107.249,
          107.218,
          107.146,
          107.056,
          107.356,
          107.229,
          107.272,
          107.375,
          107.222,
          107.376,
          107.885,
          107.825,
          107.734,
          107.79,
          107.782,
          107.798,
          107.944,
          107.986,
          108.165,
          108.09,
          107.71,
          107.56,
          107.602,
          107.504,
          107.504,
          107.558,
          107.554,
          107.637,
          107.726,
          107.592,
          107.564,
          107.57,
          107.537,
          107.534
         ],
         "increasing": {
          "fillcolor": "#24A06B",
          "line": {
           "color": "#2EC886"
          }
         },
         "line": {
          "width": 1
         },
         "low": [
          106.896,
          106.898,
          106.797,
          106.806,
          106.573,
          106.676,
          106.587,
          106.63,
          107.064,
          107.221,
          107.22,
          107.342,
          107.147,
          107.028,
          107,
          107.235,
          107.206,
          107.212,
          107.268,
          107.233,
          107.283,
          107.26,
          107.214,
          107.244,
          107.17,
          107.194,
          107.188,
          107.336,
          107.136,
          106.952,
          106.726,
          106.705,
          106.807,
          106.791,
          106.668,
          106.815,
          106.869,
          106.831,
          106.793,
          106.768,
          106.796,
          106.796,
          106.769,
          106.823,
          106.856,
          106.856,
          106.792,
          106.864,
          106.876,
          106.74,
          107.037,
          106.521,
          106.074,
          106.424,
          106.384,
          106.422,
          106.477,
          106.462,
          106.711,
          106.818,
          106.985,
          107.044,
          107.05,
          107.17,
          107.134,
          107.112,
          107.088,
          107.075,
          106.864,
          106.8,
          107.02,
          107.102,
          107.112,
          107.041,
          107.052,
          107.167,
          107.324,
          107.551,
          107.544,
          107.672,
          107.64,
          107.686,
          107.522,
          107.802,
          107.912,
          107.589,
          107.469,
          107.363,
          107.368,
          107.409,
          107.334,
          107.418,
          107.349,
          107.346,
          107.452,
          107.48,
          107.437,
          107.472,
          107.448,
          107.458
         ],
         "opacity": 1,
         "open": [
          107.116,
          106.998,
          107.083,
          106.829,
          106.86,
          106.676,
          106.88,
          106.67,
          107.144,
          107.294,
          107.394,
          107.5,
          107.375,
          107.218,
          107.072,
          107.306,
          107.418,
          107.238,
          107.339,
          107.324,
          107.484,
          107.455,
          107.404,
          107.337,
          107.374,
          107.33,
          107.225,
          107.428,
          107.382,
          107.286,
          107.014,
          106.798,
          106.832,
          107.034,
          106.797,
          106.882,
          107,
          106.923,
          106.856,
          106.929,
          106.867,
          106.844,
          106.773,
          106.824,
          106.912,
          106.902,
          106.88,
          106.869,
          106.929,
          106.95,
          107.136,
          107.044,
          106.626,
          106.466,
          106.519,
          106.546,
          106.574,
          106.524,
          106.758,
          106.828,
          107.064,
          107.068,
          107.137,
          107.208,
          107.3,
          107.188,
          107.22,
          107.183,
          107.084,
          106.866,
          107.048,
          107.146,
          107.16,
          107.268,
          107.084,
          107.2,
          107.335,
          107.773,
          107.567,
          107.702,
          107.719,
          107.686,
          107.726,
          107.824,
          107.928,
          108.09,
          107.657,
          107.53,
          107.444,
          107.424,
          107.469,
          107.473,
          107.432,
          107.372,
          107.628,
          107.586,
          107.516,
          107.508,
          107.517,
          107.464
         ],
         "type": "candlestick",
         "x": [
          "s20-06-10 21:00",
          "s20-06-11 01:00",
          "s20-06-11 05:00",
          "s20-06-11 09:00",
          "s20-06-11 13:00",
          "s20-06-11 17:00",
          "s20-06-11 21:00",
          "s20-06-12 01:00",
          "s20-06-12 05:00",
          "s20-06-12 09:00",
          "s20-06-12 13:00",
          "s20-06-12 17:00",
          "s20-06-14 21:00",
          "s20-06-15 01:00",
          "s20-06-15 05:00",
          "s20-06-15 09:00",
          "s20-06-15 13:00",
          "s20-06-15 17:00",
          "s20-06-15 21:00",
          "s20-06-16 01:00",
          "s20-06-16 05:00",
          "s20-06-16 09:00",
          "s20-06-16 13:00",
          "s20-06-16 17:00",
          "s20-06-16 21:00",
          "s20-06-17 01:00",
          "s20-06-17 05:00",
          "s20-06-17 09:00",
          "s20-06-17 13:00",
          "s20-06-17 17:00",
          "s20-06-17 21:00",
          "s20-06-18 01:00",
          "s20-06-18 05:00",
          "s20-06-18 09:00",
          "s20-06-18 13:00",
          "s20-06-18 17:00",
          "s20-06-18 21:00",
          "s20-06-19 01:00",
          "s20-06-19 05:00",
          "s20-06-19 09:00",
          "s20-06-19 13:00",
          "s20-06-19 17:00",
          "s20-06-21 21:00",
          "s20-06-22 01:00",
          "s20-06-22 05:00",
          "s20-06-22 09:00",
          "s20-06-22 13:00",
          "s20-06-22 17:00",
          "s20-06-22 21:00",
          "s20-06-23 01:00",
          "s20-06-23 05:00",
          "s20-06-23 09:00",
          "s20-06-23 13:00",
          "s20-06-23 17:00",
          "s20-06-23 21:00",
          "s20-06-24 01:00",
          "s20-06-24 05:00",
          "s20-06-24 09:00",
          "s20-06-24 13:00",
          "s20-06-24 17:00",
          "s20-06-24 21:00",
          "s20-06-25 01:00",
          "s20-06-25 05:00",
          "s20-06-25 09:00",
          "s20-06-25 13:00",
          "s20-06-25 17:00",
          "s20-06-25 21:00",
          "s20-06-26 01:00",
          "s20-06-26 05:00",
          "s20-06-26 09:00",
          "s20-06-26 13:00",
          "s20-06-26 17:00",
          "s20-06-28 21:00",
          "s20-06-29 01:00",
          "s20-06-29 05:00",
          "s20-06-29 09:00",
          "s20-06-29 13:00",
          "s20-06-29 17:00",
          "s20-06-29 21:00",
          "s20-06-30 01:00",
          "s20-06-30 05:00",
          "s20-06-30 09:00",
          "s20-06-30 13:00",
          "s20-06-30 17:00",
          "s20-06-30 21:00",
          "s20-07-01 01:00",
          "s20-07-01 05:00",
          "s20-07-01 09:00",
          "s20-07-01 13:00",
          "s20-07-01 17:00",
          "s20-07-01 21:00",
          "s20-07-02 01:00",
          "s20-07-02 05:00",
          "s20-07-02 09:00",
          "s20-07-02 13:00",
          "s20-07-02 17:00",
          "s20-07-02 21:00",
          "s20-07-03 01:00",
          "s20-07-03 05:00",
          "s20-07-03 09:00"
         ]
        }
       ],
       "layout": {
        "font": {
         "color": "#e1e1e1",
         "size": 8
        },
        "height": 600,
        "margin": {
         "b": 10,
         "l": 10,
         "r": 10,
         "t": 10
        },
        "paper_bgcolor": "#2c303c",
        "plot_bgcolor": "#2c303c",
        "template": {
         "data": {
          "bar": [
           {
            "error_x": {
             "color": "#2a3f5f"
            },
            "error_y": {
             "color": "#2a3f5f"
            },
            "marker": {
             "line": {
              "color": "#E5ECF6",
              "width": 0.5
             },
             "pattern": {
              "fillmode": "overlay",
              "size": 10,
              "solidity": 0.2
             }
            },
            "type": "bar"
           }
          ],
          "barpolar": [
           {
            "marker": {
             "line": {
              "color": "#E5ECF6",
              "width": 0.5
             },
             "pattern": {
              "fillmode": "overlay",
              "size": 10,
              "solidity": 0.2
             }
            },
            "type": "barpolar"
           }
          ],
          "carpet": [
           {
            "aaxis": {
             "endlinecolor": "#2a3f5f",
             "gridcolor": "white",
             "linecolor": "white",
             "minorgridcolor": "white",
             "startlinecolor": "#2a3f5f"
            },
            "baxis": {
             "endlinecolor": "#2a3f5f",
             "gridcolor": "white",
             "linecolor": "white",
             "minorgridcolor": "white",
             "startlinecolor": "#2a3f5f"
            },
            "type": "carpet"
           }
          ],
          "choropleth": [
           {
            "colorbar": {
             "outlinewidth": 0,
             "ticks": ""
            },
            "type": "choropleth"
           }
          ],
          "contour": [
           {
            "colorbar": {
             "outlinewidth": 0,
             "ticks": ""
            },
            "colorscale": [
             [
              0,
              "#0d0887"
             ],
             [
              0.1111111111111111,
              "#46039f"
             ],
             [
              0.2222222222222222,
              "#7201a8"
             ],
             [
              0.3333333333333333,
              "#9c179e"
             ],
             [
              0.4444444444444444,
              "#bd3786"
             ],
             [
              0.5555555555555556,
              "#d8576b"
             ],
             [
              0.6666666666666666,
              "#ed7953"
             ],
             [
              0.7777777777777778,
              "#fb9f3a"
             ],
             [
              0.8888888888888888,
              "#fdca26"
             ],
             [
              1,
              "#f0f921"
             ]
            ],
            "type": "contour"
           }
          ],
          "contourcarpet": [
           {
            "colorbar": {
             "outlinewidth": 0,
             "ticks": ""
            },
            "type": "contourcarpet"
           }
          ],
          "heatmap": [
           {
            "colorbar": {
             "outlinewidth": 0,
             "ticks": ""
            },
            "colorscale": [
             [
              0,
              "#0d0887"
             ],
             [
              0.1111111111111111,
              "#46039f"
             ],
             [
              0.2222222222222222,
              "#7201a8"
             ],
             [
              0.3333333333333333,
              "#9c179e"
             ],
             [
              0.4444444444444444,
              "#bd3786"
             ],
             [
              0.5555555555555556,
              "#d8576b"
             ],
             [
              0.6666666666666666,
              "#ed7953"
             ],
             [
              0.7777777777777778,
              "#fb9f3a"
             ],
             [
              0.8888888888888888,
              "#fdca26"
             ],
             [
              1,
              "#f0f921"
             ]
            ],
            "type": "heatmap"
           }
          ],
          "heatmapgl": [
           {
            "colorbar": {
             "outlinewidth": 0,
             "ticks": ""
            },
            "colorscale": [
             [
              0,
              "#0d0887"
             ],
             [
              0.1111111111111111,
              "#46039f"
             ],
             [
              0.2222222222222222,
              "#7201a8"
             ],
             [
              0.3333333333333333,
              "#9c179e"
             ],
             [
              0.4444444444444444,
              "#bd3786"
             ],
             [
              0.5555555555555556,
              "#d8576b"
             ],
             [
              0.6666666666666666,
              "#ed7953"
             ],
             [
              0.7777777777777778,
              "#fb9f3a"
             ],
             [
              0.8888888888888888,
              "#fdca26"
             ],
             [
              1,
              "#f0f921"
             ]
            ],
            "type": "heatmapgl"
           }
          ],
          "histogram": [
           {
            "marker": {
             "pattern": {
              "fillmode": "overlay",
              "size": 10,
              "solidity": 0.2
             }
            },
            "type": "histogram"
           }
          ],
          "histogram2d": [
           {
            "colorbar": {
             "outlinewidth": 0,
             "ticks": ""
            },
            "colorscale": [
             [
              0,
              "#0d0887"
             ],
             [
              0.1111111111111111,
              "#46039f"
             ],
             [
              0.2222222222222222,
              "#7201a8"
             ],
             [
              0.3333333333333333,
              "#9c179e"
             ],
             [
              0.4444444444444444,
              "#bd3786"
             ],
             [
              0.5555555555555556,
              "#d8576b"
             ],
             [
              0.6666666666666666,
              "#ed7953"
             ],
             [
              0.7777777777777778,
              "#fb9f3a"
             ],
             [
              0.8888888888888888,
              "#fdca26"
             ],
             [
              1,
              "#f0f921"
             ]
            ],
            "type": "histogram2d"
           }
          ],
          "histogram2dcontour": [
           {
            "colorbar": {
             "outlinewidth": 0,
             "ticks": ""
            },
            "colorscale": [
             [
              0,
              "#0d0887"
             ],
             [
              0.1111111111111111,
              "#46039f"
             ],
             [
              0.2222222222222222,
              "#7201a8"
             ],
             [
              0.3333333333333333,
              "#9c179e"
             ],
             [
              0.4444444444444444,
              "#bd3786"
             ],
             [
              0.5555555555555556,
              "#d8576b"
             ],
             [
              0.6666666666666666,
              "#ed7953"
             ],
             [
              0.7777777777777778,
              "#fb9f3a"
             ],
             [
              0.8888888888888888,
              "#fdca26"
             ],
             [
              1,
              "#f0f921"
             ]
            ],
            "type": "histogram2dcontour"
           }
          ],
          "mesh3d": [
           {
            "colorbar": {
             "outlinewidth": 0,
             "ticks": ""
            },
            "type": "mesh3d"
           }
          ],
          "parcoords": [
           {
            "line": {
             "colorbar": {
              "outlinewidth": 0,
              "ticks": ""
             }
            },
            "type": "parcoords"
           }
          ],
          "pie": [
           {
            "automargin": true,
            "type": "pie"
           }
          ],
          "scatter": [
           {
            "fillpattern": {
             "fillmode": "overlay",
             "size": 10,
             "solidity": 0.2
            },
            "type": "scatter"
           }
          ],
          "scatter3d": [
           {
            "line": {
             "colorbar": {
              "outlinewidth": 0,
              "ticks": ""
             }
            },
            "marker": {
             "colorbar": {
              "outlinewidth": 0,
              "ticks": ""
             }
            },
            "type": "scatter3d"
           }
          ],
          "scattercarpet": [
           {
            "marker": {
             "colorbar": {
              "outlinewidth": 0,
              "ticks": ""
             }
            },
            "type": "scattercarpet"
           }
          ],
          "scattergeo": [
           {
            "marker": {
             "colorbar": {
              "outlinewidth": 0,
              "ticks": ""
             }
            },
            "type": "scattergeo"
           }
          ],
          "scattergl": [
           {
            "marker": {
             "colorbar": {
              "outlinewidth": 0,
              "ticks": ""
             }
            },
            "type": "scattergl"
           }
          ],
          "scattermapbox": [
           {
            "marker": {
             "colorbar": {
              "outlinewidth": 0,
              "ticks": ""
             }
            },
            "type": "scattermapbox"
           }
          ],
          "scatterpolar": [
           {
            "marker": {
             "colorbar": {
              "outlinewidth": 0,
              "ticks": ""
             }
            },
            "type": "scatterpolar"
           }
          ],
          "scatterpolargl": [
           {
            "marker": {
             "colorbar": {
              "outlinewidth": 0,
              "ticks": ""
             }
            },
            "type": "scatterpolargl"
           }
          ],
          "scatterternary": [
           {
            "marker": {
             "colorbar": {
              "outlinewidth": 0,
              "ticks": ""
             }
            },
            "type": "scatterternary"
           }
          ],
          "surface": [
           {
            "colorbar": {
             "outlinewidth": 0,
             "ticks": ""
            },
            "colorscale": [
             [
              0,
              "#0d0887"
             ],
             [
              0.1111111111111111,
              "#46039f"
             ],
             [
              0.2222222222222222,
              "#7201a8"
             ],
             [
              0.3333333333333333,
              "#9c179e"
             ],
             [
              0.4444444444444444,
              "#bd3786"
             ],
             [
              0.5555555555555556,
              "#d8576b"
             ],
             [
              0.6666666666666666,
              "#ed7953"
             ],
             [
              0.7777777777777778,
              "#fb9f3a"
             ],
             [
              0.8888888888888888,
              "#fdca26"
             ],
             [
              1,
              "#f0f921"
             ]
            ],
            "type": "surface"
           }
          ],
          "table": [
           {
            "cells": {
             "fill": {
              "color": "#EBF0F8"
             },
             "line": {
              "color": "white"
             }
            },
            "header": {
             "fill": {
              "color": "#C8D4E3"
             },
             "line": {
              "color": "white"
             }
            },
            "type": "table"
           }
          ]
         },
         "layout": {
          "annotationdefaults": {
           "arrowcolor": "#2a3f5f",
           "arrowhead": 0,
           "arrowwidth": 1
          },
          "autotypenumbers": "strict",
          "coloraxis": {
           "colorbar": {
            "outlinewidth": 0,
            "ticks": ""
           }
          },
          "colorscale": {
           "diverging": [
            [
             0,
             "#8e0152"
            ],
            [
             0.1,
             "#c51b7d"
            ],
            [
             0.2,
             "#de77ae"
            ],
            [
             0.3,
             "#f1b6da"
            ],
            [
             0.4,
             "#fde0ef"
            ],
            [
             0.5,
             "#f7f7f7"
            ],
            [
             0.6,
             "#e6f5d0"
            ],
            [
             0.7,
             "#b8e186"
            ],
            [
             0.8,
             "#7fbc41"
            ],
            [
             0.9,
             "#4d9221"
            ],
            [
             1,
             "#276419"
            ]
           ],
           "sequential": [
            [
             0,
             "#0d0887"
            ],
            [
             0.1111111111111111,
             "#46039f"
            ],
            [
             0.2222222222222222,
             "#7201a8"
            ],
            [
             0.3333333333333333,
             "#9c179e"
            ],
            [
             0.4444444444444444,
             "#bd3786"
            ],
            [
             0.5555555555555556,
             "#d8576b"
            ],
            [
             0.6666666666666666,
             "#ed7953"
            ],
            [
             0.7777777777777778,
             "#fb9f3a"
            ],
            [
             0.8888888888888888,
             "#fdca26"
            ],
            [
             1,
             "#f0f921"
            ]
           ],
           "sequentialminus": [
            [
             0,
             "#0d0887"
            ],
            [
             0.1111111111111111,
             "#46039f"
            ],
            [
             0.2222222222222222,
             "#7201a8"
            ],
            [
             0.3333333333333333,
             "#9c179e"
            ],
            [
             0.4444444444444444,
             "#bd3786"
            ],
            [
             0.5555555555555556,
             "#d8576b"
            ],
            [
             0.6666666666666666,
             "#ed7953"
            ],
            [
             0.7777777777777778,
             "#fb9f3a"
            ],
            [
             0.8888888888888888,
             "#fdca26"
            ],
            [
             1,
             "#f0f921"
            ]
           ]
          },
          "colorway": [
           "#636efa",
           "#EF553B",
           "#00cc96",
           "#ab63fa",
           "#FFA15A",
           "#19d3f3",
           "#FF6692",
           "#B6E880",
           "#FF97FF",
           "#FECB52"
          ],
          "font": {
           "color": "#2a3f5f"
          },
          "geo": {
           "bgcolor": "white",
           "lakecolor": "white",
           "landcolor": "#E5ECF6",
           "showlakes": true,
           "showland": true,
           "subunitcolor": "white"
          },
          "hoverlabel": {
           "align": "left"
          },
          "hovermode": "closest",
          "mapbox": {
           "style": "light"
          },
          "paper_bgcolor": "white",
          "plot_bgcolor": "#E5ECF6",
          "polar": {
           "angularaxis": {
            "gridcolor": "white",
            "linecolor": "white",
            "ticks": ""
           },
           "bgcolor": "#E5ECF6",
           "radialaxis": {
            "gridcolor": "white",
            "linecolor": "white",
            "ticks": ""
           }
          },
          "scene": {
           "xaxis": {
            "backgroundcolor": "#E5ECF6",
            "gridcolor": "white",
            "gridwidth": 2,
            "linecolor": "white",
            "showbackground": true,
            "ticks": "",
            "zerolinecolor": "white"
           },
           "yaxis": {
            "backgroundcolor": "#E5ECF6",
            "gridcolor": "white",
            "gridwidth": 2,
            "linecolor": "white",
            "showbackground": true,
            "ticks": "",
            "zerolinecolor": "white"
           },
           "zaxis": {
            "backgroundcolor": "#E5ECF6",
            "gridcolor": "white",
            "gridwidth": 2,
            "linecolor": "white",
            "showbackground": true,
            "ticks": "",
            "zerolinecolor": "white"
           }
          },
          "shapedefaults": {
           "line": {
            "color": "#2a3f5f"
           }
          },
          "ternary": {
           "aaxis": {
            "gridcolor": "white",
            "linecolor": "white",
            "ticks": ""
           },
           "baxis": {
            "gridcolor": "white",
            "linecolor": "white",
            "ticks": ""
           },
           "bgcolor": "#E5ECF6",
           "caxis": {
            "gridcolor": "white",
            "linecolor": "white",
            "ticks": ""
           }
          },
          "title": {
           "x": 0.05
          },
          "xaxis": {
           "automargin": true,
           "gridcolor": "white",
           "linecolor": "white",
           "ticks": "",
           "title": {
            "standoff": 15
           },
           "zerolinecolor": "white",
           "zerolinewidth": 2
          },
          "yaxis": {
           "automargin": true,
           "gridcolor": "white",
           "linecolor": "white",
           "ticks": "",
           "title": {
            "standoff": 15
           },
           "zerolinecolor": "white",
           "zerolinewidth": 2
          }
         }
        },
        "width": 1100,
        "xaxis": {
         "gridcolor": "#1f292f",
         "nticks": 10,
         "rangeslider": {
          "visible": false
         }
        },
        "yaxis": {
         "gridcolor": "#1f292f"
        }
       }
      }
     },
     "metadata": {},
     "output_type": "display_data"
    }
   ],
   "source": [
    "cp.show_plot()"
   ]
  },
  {
   "cell_type": "code",
   "execution_count": null,
   "metadata": {},
   "outputs": [],
   "source": []
  },
  {
   "cell_type": "code",
   "execution_count": null,
   "metadata": {},
   "outputs": [],
   "source": []
  }
 ],
 "metadata": {
  "kernelspec": {
   "display_name": "Python 3.10.9 ('TraderDan': venv)",
   "language": "python",
   "name": "python3"
  },
  "language_info": {
   "codemirror_mode": {
    "name": "ipython",
    "version": 3
   },
   "file_extension": ".py",
   "mimetype": "text/x-python",
   "name": "python",
   "nbconvert_exporter": "python",
   "pygments_lexer": "ipython3",
   "version": "3.10.9"
  },
  "orig_nbformat": 4,
  "vscode": {
   "interpreter": {
    "hash": "37c0ee6a936457b56c75da43e470863284b7914e5fa24692c47febffdd011b7a"
   }
  }
 },
 "nbformat": 4,
 "nbformat_minor": 2
}
